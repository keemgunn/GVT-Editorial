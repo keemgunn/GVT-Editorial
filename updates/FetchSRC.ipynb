{
 "cells": [
  {
   "cell_type": "code",
   "execution_count": 1,
   "metadata": {},
   "outputs": [
    {
     "data": {
      "text/plain": [
       "'/Users/gunn/CodespaceLocal/2301-DMSTK-CanvasCreative/src'"
      ]
     },
     "execution_count": 1,
     "metadata": {},
     "output_type": "execute_result"
    }
   ],
   "source": [
    "import shutil\n",
    "\n",
    "OUTPUT_DIR = '/Users/gunn/CodespaceLocal/2301-DMSTK-CanvasCreative/src'\n",
    "\n",
    "source_dir = '../src'\n",
    "template_file = source_dir + \"/template_package.json\"\n",
    "source_file = \"../package.json\"\n",
    "\n",
    "# override the template_package.json with package.json\n",
    "shutil.copy(source_file, template_file)\n",
    "\n",
    "# copy the source directory to output directory\n",
    "shutil.rmtree(OUTPUT_DIR, ignore_errors=True)\n",
    "shutil.copytree(source_dir, OUTPUT_DIR)"
   ]
  },
  {
   "cell_type": "code",
   "execution_count": null,
   "metadata": {},
   "outputs": [],
   "source": []
  }
 ],
 "metadata": {
  "kernelspec": {
   "display_name": "base",
   "language": "python",
   "name": "python3"
  },
  "language_info": {
   "codemirror_mode": {
    "name": "ipython",
    "version": 3
   },
   "file_extension": ".py",
   "mimetype": "text/x-python",
   "name": "python",
   "nbconvert_exporter": "python",
   "pygments_lexer": "ipython3",
   "version": "3.9.13 (main, Aug 25 2022, 18:29:29) \n[Clang 12.0.0 ]"
  },
  "orig_nbformat": 4,
  "vscode": {
   "interpreter": {
    "hash": "278c053442b84a76bf1087280d3f942f2e6f891bf8b62cf7e6e5a66d0bfd330d"
   }
  }
 },
 "nbformat": 4,
 "nbformat_minor": 2
}
